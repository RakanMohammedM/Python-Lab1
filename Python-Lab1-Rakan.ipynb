{
 "cells": [
  {
   "cell_type": "code",
   "execution_count": 1,
   "id": "834e114b",
   "metadata": {},
   "outputs": [],
   "source": [
    "season = \"Winter\""
   ]
  },
  {
   "cell_type": "code",
   "execution_count": 2,
   "id": "b4d1c5dd",
   "metadata": {},
   "outputs": [],
   "source": [
    "x = 5\n",
    "y = 5.99"
   ]
  },
  {
   "cell_type": "code",
   "execution_count": 3,
   "id": "db899bd1",
   "metadata": {},
   "outputs": [],
   "source": [
    "red = green = blue = \"colors\""
   ]
  },
  {
   "cell_type": "code",
   "execution_count": 4,
   "id": "6690b1d3",
   "metadata": {},
   "outputs": [],
   "source": [
    "rakan, rayan, rashed = 5, \"yellow\", True"
   ]
  }
 ],
 "metadata": {
  "kernelspec": {
   "display_name": "Python 3 (ipykernel)",
   "language": "python",
   "name": "python3"
  },
  "language_info": {
   "codemirror_mode": {
    "name": "ipython",
    "version": 3
   },
   "file_extension": ".py",
   "mimetype": "text/x-python",
   "name": "python",
   "nbconvert_exporter": "python",
   "pygments_lexer": "ipython3",
   "version": "3.11.3"
  }
 },
 "nbformat": 4,
 "nbformat_minor": 5
}
